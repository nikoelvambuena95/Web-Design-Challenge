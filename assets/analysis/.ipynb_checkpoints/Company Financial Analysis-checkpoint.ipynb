{
 "cells": [
  {
   "cell_type": "markdown",
   "metadata": {},
   "source": [
    "# Financial Analysis\n",
    "### using 'Alphavantage' API"
   ]
  },
  {
   "cell_type": "code",
   "execution_count": null,
   "metadata": {},
   "outputs": [],
   "source": [
    "# Import dependencies\n",
    "import requests\n",
    "import json\n",
    "import pandas as pd\n",
    "import matplotlib.pyplot as plt\n",
    "import matplotlib.ticker as mtick\n",
    "import numpy as np\n",
    "from scipy.stats import linregress\n",
    "from config import api_key\n",
    "from pprint import pprint"
   ]
  },
  {
   "cell_type": "code",
   "execution_count": null,
   "metadata": {
    "scrolled": false
   },
   "outputs": [],
   "source": [
    "# Input company stock ticker #\n",
    "print(\"Enter company stock ticker:\")\n",
    "ticker = (input()).upper()\n",
    "\n",
    "# Company Info reports API url #\n",
    "info_url = (\"https://www.alphavantage.co/query?function=OVERVIEW&symbol=\" + ticker + \"&apikey=\" + api_key)\n",
    "\n",
    "# Intraday Trading reports API url (interval set at 15 minutes) #\n",
    "intraday_url = (\"https://www.alphavantage.co/query?function=TIME_SERIES_INTRADAY&symbol=\" + ticker + \"&interval=15min&outputsize=full&apikey=\" + api_key)\n",
    "\n",
    "# Income Statement reports API url #\n",
    "incstat_url = (\"https://www.alphavantage.co/query?function=INCOME_STATEMENT&symbol=\" + ticker + \"&apikey=\" + api_key)\n",
    "\n",
    "# Balance Sheet reports API url #\n",
    "balsheet_url = (\"https://www.alphavantage.co/query?function=BALANCE_SHEET&symbol=\" + ticker + \"&apikey=\" + api_key)\n",
    "\n",
    "# Cash Flow reports API url #\n",
    "cf_url = (\"https://www.alphavantage.co/query?function=CASH_FLOW&symbol=\"+ ticker + \"&apikey=\"+ api_key)\n",
    "\n",
    "# Get responses #\n",
    "info_response = requests.get(info_url)\n",
    "print(info_response)\n",
    "info_data = info_response.json()\n",
    "\n",
    "incstat_response = requests.get(incstat_url)\n",
    "print(incstat_response)\n",
    "incstat_data = incstat_response.json()\n",
    "\n",
    "balsheet_response = requests.get(balsheet_url)\n",
    "print(balsheet_response)\n",
    "balsheet_data = balsheet_response.json()\n",
    "\n",
    "cf_response = requests.get(cf_url)\n",
    "print(cf_response)\n",
    "cf_data = cf_response.json()\n",
    "\n",
    "intraday_response = requests.get(intraday_url)\n",
    "print(intraday_response)\n",
    "intraday_data = intraday_response.json()"
   ]
  },
  {
   "cell_type": "markdown",
   "metadata": {},
   "source": [
    "### Company Information "
   ]
  },
  {
   "cell_type": "code",
   "execution_count": null,
   "metadata": {
    "scrolled": true
   },
   "outputs": [],
   "source": [
    "# Print company information #\n",
    "co_name = info_data['Name']\n",
    "pprint(info_data)"
   ]
  },
  {
   "cell_type": "markdown",
   "metadata": {},
   "source": [
    "#### Intraday Report <em>15 minute</em> intervals"
   ]
  },
  {
   "cell_type": "code",
   "execution_count": null,
   "metadata": {},
   "outputs": [],
   "source": [
    "# Generate Intraday reportings data frame\n",
    "intraday15_df = pd.DataFrame(intraday_data['Time Series (15min)'])\n",
    "intraday15_df = intraday15_df.T\n",
    "intraday15_df"
   ]
  },
  {
   "cell_type": "markdown",
   "metadata": {},
   "source": [
    "#### Income Statement <em>Quarterly</em> reportings data frames"
   ]
  },
  {
   "cell_type": "code",
   "execution_count": null,
   "metadata": {},
   "outputs": [],
   "source": [
    "# Generate Income Statement quarterly reportings as Pandas data frames #\n",
    "incstat_quart_report_df = pd.DataFrame(incstat_data['quarterlyReports'])\n",
    "\n",
    "# Convert columns to relevant data types - e.g. 'fiscalDateEnding' column as Time series, 'totalRevenue' as Numeric #  \n",
    "incstat_quart_report_df.iloc[:, 2: ] = incstat_quart_report_df.iloc[:, 2: ].apply(pd.to_numeric, errors='ignore')\n",
    "incstat_quart_report_df.iloc[:,0] = incstat_quart_report_df.iloc[:,0].apply(pd.to_datetime, errors='ignore')\n",
    "incstat_quart_report_df.head(10)"
   ]
  },
  {
   "cell_type": "code",
   "execution_count": null,
   "metadata": {
    "scrolled": true
   },
   "outputs": [],
   "source": [
    "# Print Income Statement categories #\n",
    "incstat_categories = pd.DataFrame(incstat_quart_report_df.columns[2:])\n",
    "incstat_categories"
   ]
  },
  {
   "cell_type": "markdown",
   "metadata": {},
   "source": [
    "#### Balance Sheet <em>Quarterly</em> reportings data frames"
   ]
  },
  {
   "cell_type": "code",
   "execution_count": null,
   "metadata": {
    "scrolled": false
   },
   "outputs": [],
   "source": [
    "# Generate Balance Sheet quarterly reportings as Pandas data frames #\n",
    "balsheet_quart_report_df = pd.DataFrame(balsheet_data['quarterlyReports'])\n",
    "\n",
    "# Convert columns to relevant data types - e.g. 'fiscalDateEnding' column as Time series, 'totalRevenue' as Numeric #\n",
    "balsheet_quart_report_df.iloc[:, 2: ] = balsheet_quart_report_df.iloc[:, 2: ].apply(pd.to_numeric, errors='ignore')\n",
    "balsheet_quart_report_df.iloc[:,0] = balsheet_quart_report_df.iloc[:,0].apply(pd.to_datetime, errors='ignore')\n",
    "balsheet_quart_report_df.head(10)"
   ]
  },
  {
   "cell_type": "code",
   "execution_count": null,
   "metadata": {},
   "outputs": [],
   "source": [
    "# Print Balance Sheet categories #\n",
    "balsheet_categories = pd.DataFrame(balsheet_quart_report_df.columns[2:])\n",
    "#balsheet_categories"
   ]
  },
  {
   "cell_type": "markdown",
   "metadata": {},
   "source": [
    "#### Cash Flow <em>Quarterly</em> reportings data frames"
   ]
  },
  {
   "cell_type": "code",
   "execution_count": null,
   "metadata": {
    "scrolled": true
   },
   "outputs": [],
   "source": [
    "# Generate Balance Sheet quarterly reportings as Pandas data frames #\n",
    "cf_quart_report_df = pd.DataFrame(cf_data['quarterlyReports'])\n",
    "\n",
    "# Convert columns to relevant data types - e.g. 'fiscalDateEnding' column as Time series, 'totalRevenue' as Numeric #\n",
    "cf_quart_report_df.iloc[:, 2: ] = cf_quart_report_df.iloc[:, 2: ].apply(pd.to_numeric, errors='ignore')\n",
    "cf_quart_report_df.iloc[:,0] = cf_quart_report_df.iloc[:,0].apply(pd.to_datetime, errors='ignore')\n",
    "cf_quart_report_df.head(10)"
   ]
  },
  {
   "cell_type": "code",
   "execution_count": null,
   "metadata": {
    "scrolled": true
   },
   "outputs": [],
   "source": [
    "# Print Cash Flow categories #\n",
    "cf_categories = pd.DataFrame(cf_quart_report_df.columns[2:])\n",
    "cf_categories"
   ]
  },
  {
   "cell_type": "markdown",
   "metadata": {},
   "source": [
    "## Book Value"
   ]
  },
  {
   "cell_type": "code",
   "execution_count": null,
   "metadata": {
    "scrolled": true
   },
   "outputs": [],
   "source": [
    "bookval_quart = (balsheet_quart_report_df.iloc[:, 2]) - (balsheet_quart_report_df.iloc[:, 19])\n",
    "bookval_quart = pd.DataFrame(bookval_quart)\n",
    "bookval_quart.columns = ['Quarterly Book Value']\n",
    "bookval_quart['Fiscal Date Ending'] = balsheet_quart_report_df.iloc[: , 0]\n",
    "bookval_quart = bookval_quart[['Fiscal Date Ending', 'Quarterly Book Value']]\n",
    "\n",
    "# plot Quarterly Accounting Value\n",
    "\n",
    "def billions(x, pos):\n",
    "    return '${:1.1f}B'.format(x*1e-9)\n",
    "\n",
    "fig, ax = plt.subplots(figsize=(8, 5))\n",
    "ax.plot(bookval_quart['Fiscal Date Ending'],\n",
    "       bookval_quart['Quarterly Book Value'],\n",
    "       marker = 'o',\n",
    "        color = 'blue')\n",
    "ax.yaxis.set_major_formatter(billions)\n",
    "ax.set_title(f'\"{co_name}\" Quarterly Book Value', fontsize = 15)\n",
    "ax.grid()\n",
    "plt.savefig(f'../visualizations/{co_name}bookval_quart_plot.png')\n",
    "plt.show()"
   ]
  },
  {
   "cell_type": "markdown",
   "metadata": {},
   "source": [
    "## Return On Sales Ratio "
   ]
  },
  {
   "cell_type": "code",
   "execution_count": null,
   "metadata": {},
   "outputs": [],
   "source": [
    "# Creating Quarterly Return On Sales Ratio data frame #\n",
    "ros_ratio_quart = (incstat_quart_report_df.iloc[:, 25]) / (incstat_quart_report_df.iloc[:, 3])\n",
    "ros_ratio_quart = pd.DataFrame(ros_ratio_quart)\n",
    "ros_ratio_quart.columns = ['Quarterly Return On Sales Ratio']\n",
    "ros_ratio_quart['Fiscal Date Ending'] = incstat_quart_report_df.iloc[: , 0]\n",
    "ros_ratio_quart['Fiscal Date Ending'] = pd.to_datetime(ros_ratio_quart['Fiscal Date Ending']).dt.date\n",
    "ros_ratio_quart = ros_ratio_quart[['Fiscal Date Ending', 'Quarterly Return On Sales Ratio']]\n",
    "\n",
    "# First - plot Return On Sales Ratio #\n",
    "ros_ratio_quart['values'] = ros_ratio_quart['Quarterly Return On Sales Ratio'] > 0\n",
    "\n",
    "fig, ax = plt.subplots(figsize=(15, 5))\n",
    "ros_ratio_quart['Quarterly Return On Sales Ratio'].plot(kind='bar', color = ros_ratio_quart['values'].map({True: 'g', False: 'r'}), ax=ax)\n",
    "ax.axhline(0, color='k')\n",
    "ax.set_xticklabels(ros_ratio_quart['Fiscal Date Ending'], rotation = 45, fontsize = 8)\n",
    "ax.yaxis.set_major_formatter(mtick.PercentFormatter())\n",
    "ax.set_title(f'\"{co_name}\" Quarterly Return On Sales Ratio', fontsize = 15)\n",
    "ax.grid(axis = 'y')\n",
    "plt.savefig(f'../visualizations/{co_name}ros_ratio_graph.png')\n",
    "plt.show()"
   ]
  },
  {
   "cell_type": "markdown",
   "metadata": {},
   "source": [
    "## Free Cash Flow v. Net Income"
   ]
  },
  {
   "cell_type": "code",
   "execution_count": null,
   "metadata": {
    "scrolled": true
   },
   "outputs": [],
   "source": [
    "# Generate Quartertly Free Cash Flow v. Net Income #\n",
    "fcf_quart_data = pd.DataFrame(cf_quart_report_df[['operatingCashflow', 'capitalExpenditures']])\n",
    "fcf_quart = (fcf_quart_data.operatingCashflow) - (fcf_quart_data.capitalExpenditures)\n",
    "fcf_quart = pd.DataFrame(fcf_quart)\n",
    "fcf_quart.columns = ['Free Cash Flow']\n",
    "fcf_quart['Fiscal Date Ending'] = cf_quart_report_df.iloc[:, 0]\n",
    "fcf_quart['Fiscal Date Ending'] = pd.to_datetime(fcf_quart['Fiscal Date Ending']).dt.date\n",
    "fcf_quart['Net Income'] = cf_quart_report_df.iloc[:, 28]\n",
    "fcf_quart = fcf_quart[['Fiscal Date Ending', 'Free Cash Flow', 'Net Income']]\n",
    "fcf_quart\n",
    "\n",
    "\n",
    "labels = fcf_quart['Fiscal Date Ending']\n",
    "fcf = fcf_quart['Free Cash Flow']\n",
    "net_inc = fcf_quart['Net Income']\n",
    "\n",
    "x = np.arange(len(labels))  # the label locations\n",
    "width = 0.35  # the width of the bars\n",
    "\n",
    "def billions(x, pos):\n",
    "    return '${:1.1f}B'.format(x*1e-9)\n",
    "\n",
    "fig, ax = plt.subplots(figsize = (15, 5))\n",
    "rects1 = ax.bar(x - width/2, fcf, width, label='Free Cash Flow', color='blue')\n",
    "rects2 = ax.bar(x + width/2, net_inc, width, label='Net Income', color='green')\n",
    "\n",
    "# Add some text for labels, title and custom x-axis tick labels, etc.\n",
    "ax.axhline(0, color='k')\n",
    "ax.set_title(f'\"{co_name}\" Free Cash Flow v. Net Income (by Quarter)', fontsize = 15)\n",
    "ax.set_xticks(x)\n",
    "ax.set_xticklabels(labels, rotation= 45, fontsize = 8)\n",
    "ax.yaxis.set_major_formatter(billions)\n",
    "ax.grid(axis = 'y')\n",
    "ax.legend()\n",
    "plt.savefig(f'../visualizations/{co_name}fcf_netinc_graph.png')\n",
    "plt.show()"
   ]
  },
  {
   "cell_type": "markdown",
   "metadata": {},
   "source": [
    "## Linear Regression Analysis - High & Low Difference v. Stock Volume"
   ]
  },
  {
   "cell_type": "code",
   "execution_count": null,
   "metadata": {
    "scrolled": true
   },
   "outputs": [],
   "source": [
    "high = pd.to_numeric(intraday15_df['2. high'])\n",
    "low = pd.to_numeric(intraday15_df['3. low'])\n",
    "volume = pd.to_numeric(intraday15_df['5. volume'])\n",
    "highlow_diff_df = pd.DataFrame(high)\n",
    "highlow_diff_df['low'] = low \n",
    "highlow_diff_df['volume'] = volume\n",
    "highlow_diff_df = highlow_diff_df.rename(columns = {'2. high' : 'high'})\n",
    "highlow_diff_df['difference'] = (highlow_diff_df['high']) - (highlow_diff_df['low'])\n",
    "highlow_diff_df = highlow_diff_df.sort_values('volume')"
   ]
  },
  {
   "cell_type": "code",
   "execution_count": null,
   "metadata": {
    "scrolled": true
   },
   "outputs": [],
   "source": [
    "x_values = highlow_diff_df['volume']\n",
    "y_values = highlow_diff_df['difference']\n",
    "(slope, intercept, rvalue, pvalue, stderr) = linregress(x_values, y_values)\n",
    "regress_values = x_values * slope + intercept\n",
    "line_eq = \"y = \" + str(round(slope,2)) + \"x + \" + str(round(intercept,2))\n",
    "\n",
    "plt.figure(figsize=(10, 5))\n",
    "plt.scatter(x_values,y_values,)\n",
    "plt.plot(x_values,regress_values,\"r-\")\n",
    "plt.annotate(line_eq,(6,10),fontsize=15,color=\"red\")\n",
    "plt.title(f'\"{co_name}\" Difference v. Stock Volume Linear Regression')\n",
    "plt.xlabel('Stock Volume')\n",
    "plt.ylabel('Difference (high - low)')\n",
    "plt.annotate(f\"The r-squared is: {rvalue**2}\", xy =(50000, .15), color=\"red\")\n",
    "plt.savefig(f'../visualizations/{co_name}linereg_plot.png')\n",
    "plt.show()"
   ]
  },
  {
   "cell_type": "markdown",
   "metadata": {},
   "source": [
    "### Generate Data Sources as HTML"
   ]
  },
  {
   "cell_type": "code",
   "execution_count": null,
   "metadata": {},
   "outputs": [],
   "source": [
    "intraday15_df_html = intraday15_df.to_html(classes=[\"table-bordered\", \"table-striped\", \"table-hover\"])\n",
    "intraday15 = open(\"intraday15_df_html.html\", \"w\")\n",
    "intraday15.write(intraday15_df_html)\n",
    "intraday15.close()"
   ]
  },
  {
   "cell_type": "code",
   "execution_count": null,
   "metadata": {},
   "outputs": [],
   "source": [
    "incstat_quart_report_df_html = incstat_quart_report_df.to_html(classes=[\"table-bordered\", \"table-striped\", \"table-hover\"])\n",
    "incstat_quart_report = open(\"incstat_quart_df_html.html\", \"w\")\n",
    "incstat_quart_report.write(incstat_quart_report_df_html)\n",
    "incstat_quart_report.close()"
   ]
  },
  {
   "cell_type": "code",
   "execution_count": null,
   "metadata": {},
   "outputs": [],
   "source": [
    "balsheet_quart_report_df_html = balsheet_quart_report_df.to_html(classes=[\"table-bordered\", \"table-striped\", \"table-hover\"])\n",
    "balsheet_quart_report = open(\"balsheet_quart_df_html.html\", \"w\")\n",
    "balsheet_quart_report.write(balsheet_quart_report_df_html)\n",
    "balsheet_quart_report.close()"
   ]
  },
  {
   "cell_type": "code",
   "execution_count": null,
   "metadata": {},
   "outputs": [],
   "source": [
    "cf_quart_report_df_html = cf_quart_report_df.to_html(classes=[\"table-bordered\", \"table-striped\", \"table-hover\"])\n",
    "cf_quart_report = open(\"cf_quart_report_df_html.html\", \"w\")\n",
    "cf_quart_report.write(cf_quart_report_df_html)\n",
    "cf_quart_report.close()"
   ]
  },
  {
   "cell_type": "markdown",
   "metadata": {},
   "source": [
    "### Generate Data Sources as CSV"
   ]
  },
  {
   "cell_type": "code",
   "execution_count": null,
   "metadata": {},
   "outputs": [],
   "source": [
    "intraday15_df_csv = intraday15_df.to_csv(index=False)\n",
    "intraday15_csv = open(\"csv/intraday15_df_csv.csv\", \"w\")\n",
    "intraday15_csv.write(intraday15_df_csv)\n",
    "intraday15_csv.close()"
   ]
  },
  {
   "cell_type": "code",
   "execution_count": null,
   "metadata": {},
   "outputs": [],
   "source": [
    "incstat_quart_report_df_csv = incstat_quart_report_df.to_csv(index=False)\n",
    "incstat_quart_report_csv = open(\"csv/incstat_quart_df_csv.csv\", \"w\")\n",
    "incstat_quart_report_csv.write(incstat_quart_report_df_csv)\n",
    "incstat_quart_report_csv.close()"
   ]
  },
  {
   "cell_type": "code",
   "execution_count": null,
   "metadata": {},
   "outputs": [],
   "source": [
    "balsheet_quart_report_df_csv = balsheet_quart_report_df.to_csv(index=False)\n",
    "balsheet_quart_report_csv = open(\"csv/balsheet_quart_df_csv.csv\", \"w\")\n",
    "balsheet_quart_report_csv.write(balsheet_quart_report_df_csv)\n",
    "balsheet_quart_report_csv.close()"
   ]
  },
  {
   "cell_type": "code",
   "execution_count": null,
   "metadata": {},
   "outputs": [],
   "source": [
    "cf_quart_report_df_csv = cf_quart_report_df.to_csv(index=False)\n",
    "cf_quart_report_csv = open(\"csv/cf_quart_report_df_csv.csv\", \"w\")\n",
    "cf_quart_report_csv.write(cf_quart_report_df_csv)\n",
    "cf_quart_report_csv.close()"
   ]
  }
 ],
 "metadata": {
  "kernelspec": {
   "display_name": "Python 3",
   "language": "python",
   "name": "python3"
  },
  "language_info": {
   "codemirror_mode": {
    "name": "ipython",
    "version": 3
   },
   "file_extension": ".py",
   "mimetype": "text/x-python",
   "name": "python",
   "nbconvert_exporter": "python",
   "pygments_lexer": "ipython3",
   "version": "3.8.5"
  }
 },
 "nbformat": 4,
 "nbformat_minor": 4
}
